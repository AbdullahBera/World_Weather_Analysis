{
 "cells": [
  {
   "cell_type": "code",
   "execution_count": 21,
   "id": "4220d73c",
   "metadata": {},
   "outputs": [],
   "source": [
    "import pandas as pd \n",
    "import gmaps \n",
    "import requests \n",
    "\n",
    "from config import g_key "
   ]
  },
  {
   "cell_type": "code",
   "execution_count": 22,
   "id": "d6cd7944",
   "metadata": {},
   "outputs": [
    {
     "data": {
      "text/html": [
       "<div>\n",
       "<style scoped>\n",
       "    .dataframe tbody tr th:only-of-type {\n",
       "        vertical-align: middle;\n",
       "    }\n",
       "\n",
       "    .dataframe tbody tr th {\n",
       "        vertical-align: top;\n",
       "    }\n",
       "\n",
       "    .dataframe thead th {\n",
       "        text-align: right;\n",
       "    }\n",
       "</style>\n",
       "<table border=\"1\" class=\"dataframe\">\n",
       "  <thead>\n",
       "    <tr style=\"text-align: right;\">\n",
       "      <th></th>\n",
       "      <th>City_ID</th>\n",
       "      <th>City</th>\n",
       "      <th>Country</th>\n",
       "      <th>Date</th>\n",
       "      <th>Lat</th>\n",
       "      <th>Lng</th>\n",
       "      <th>Max Temp</th>\n",
       "      <th>Humidity</th>\n",
       "      <th>Cloudiness</th>\n",
       "      <th>Wind Speed</th>\n",
       "    </tr>\n",
       "  </thead>\n",
       "  <tbody>\n",
       "    <tr>\n",
       "      <th>0</th>\n",
       "      <td>0</td>\n",
       "      <td>Port Alfred</td>\n",
       "      <td>ZA</td>\n",
       "      <td>7/15/21 21:47</td>\n",
       "      <td>-33.5906</td>\n",
       "      <td>26.8910</td>\n",
       "      <td>55.17</td>\n",
       "      <td>53</td>\n",
       "      <td>0</td>\n",
       "      <td>7.09</td>\n",
       "    </tr>\n",
       "    <tr>\n",
       "      <th>1</th>\n",
       "      <td>1</td>\n",
       "      <td>Asuncion Nochixtlan</td>\n",
       "      <td>MX</td>\n",
       "      <td>7/15/21 21:47</td>\n",
       "      <td>17.4667</td>\n",
       "      <td>-97.2333</td>\n",
       "      <td>65.14</td>\n",
       "      <td>75</td>\n",
       "      <td>97</td>\n",
       "      <td>8.21</td>\n",
       "    </tr>\n",
       "    <tr>\n",
       "      <th>2</th>\n",
       "      <td>2</td>\n",
       "      <td>Punta Arenas</td>\n",
       "      <td>CL</td>\n",
       "      <td>7/15/21 21:43</td>\n",
       "      <td>-53.1500</td>\n",
       "      <td>-70.9167</td>\n",
       "      <td>39.31</td>\n",
       "      <td>93</td>\n",
       "      <td>90</td>\n",
       "      <td>5.75</td>\n",
       "    </tr>\n",
       "    <tr>\n",
       "      <th>3</th>\n",
       "      <td>3</td>\n",
       "      <td>Rikitea</td>\n",
       "      <td>PF</td>\n",
       "      <td>7/15/21 21:47</td>\n",
       "      <td>-23.1203</td>\n",
       "      <td>-134.9692</td>\n",
       "      <td>73.31</td>\n",
       "      <td>72</td>\n",
       "      <td>11</td>\n",
       "      <td>8.05</td>\n",
       "    </tr>\n",
       "    <tr>\n",
       "      <th>4</th>\n",
       "      <td>4</td>\n",
       "      <td>Upernavik</td>\n",
       "      <td>GL</td>\n",
       "      <td>7/15/21 21:47</td>\n",
       "      <td>72.7868</td>\n",
       "      <td>-56.1549</td>\n",
       "      <td>42.93</td>\n",
       "      <td>80</td>\n",
       "      <td>100</td>\n",
       "      <td>10.71</td>\n",
       "    </tr>\n",
       "    <tr>\n",
       "      <th>...</th>\n",
       "      <td>...</td>\n",
       "      <td>...</td>\n",
       "      <td>...</td>\n",
       "      <td>...</td>\n",
       "      <td>...</td>\n",
       "      <td>...</td>\n",
       "      <td>...</td>\n",
       "      <td>...</td>\n",
       "      <td>...</td>\n",
       "      <td>...</td>\n",
       "    </tr>\n",
       "    <tr>\n",
       "      <th>560</th>\n",
       "      <td>560</td>\n",
       "      <td>Ternate</td>\n",
       "      <td>ID</td>\n",
       "      <td>7/15/21 21:50</td>\n",
       "      <td>0.8000</td>\n",
       "      <td>127.4000</td>\n",
       "      <td>79.50</td>\n",
       "      <td>83</td>\n",
       "      <td>92</td>\n",
       "      <td>3.67</td>\n",
       "    </tr>\n",
       "    <tr>\n",
       "      <th>561</th>\n",
       "      <td>561</td>\n",
       "      <td>Lakefield</td>\n",
       "      <td>US</td>\n",
       "      <td>7/15/21 21:51</td>\n",
       "      <td>43.6775</td>\n",
       "      <td>-95.1717</td>\n",
       "      <td>80.08</td>\n",
       "      <td>61</td>\n",
       "      <td>1</td>\n",
       "      <td>4.61</td>\n",
       "    </tr>\n",
       "    <tr>\n",
       "      <th>562</th>\n",
       "      <td>562</td>\n",
       "      <td>Kajaani</td>\n",
       "      <td>FI</td>\n",
       "      <td>7/15/21 21:51</td>\n",
       "      <td>64.2273</td>\n",
       "      <td>27.7285</td>\n",
       "      <td>66.25</td>\n",
       "      <td>94</td>\n",
       "      <td>0</td>\n",
       "      <td>6.91</td>\n",
       "    </tr>\n",
       "    <tr>\n",
       "      <th>563</th>\n",
       "      <td>563</td>\n",
       "      <td>San Jeronimo</td>\n",
       "      <td>PE</td>\n",
       "      <td>7/15/21 21:51</td>\n",
       "      <td>-11.9472</td>\n",
       "      <td>-75.2829</td>\n",
       "      <td>60.31</td>\n",
       "      <td>49</td>\n",
       "      <td>26</td>\n",
       "      <td>7.65</td>\n",
       "    </tr>\n",
       "    <tr>\n",
       "      <th>564</th>\n",
       "      <td>564</td>\n",
       "      <td>Sembakung</td>\n",
       "      <td>ID</td>\n",
       "      <td>7/15/21 21:48</td>\n",
       "      <td>3.8167</td>\n",
       "      <td>117.2500</td>\n",
       "      <td>76.93</td>\n",
       "      <td>96</td>\n",
       "      <td>100</td>\n",
       "      <td>1.14</td>\n",
       "    </tr>\n",
       "  </tbody>\n",
       "</table>\n",
       "<p>565 rows × 10 columns</p>\n",
       "</div>"
      ],
      "text/plain": [
       "     City_ID                 City Country           Date      Lat       Lng  \\\n",
       "0          0          Port Alfred      ZA  7/15/21 21:47 -33.5906   26.8910   \n",
       "1          1  Asuncion Nochixtlan      MX  7/15/21 21:47  17.4667  -97.2333   \n",
       "2          2         Punta Arenas      CL  7/15/21 21:43 -53.1500  -70.9167   \n",
       "3          3              Rikitea      PF  7/15/21 21:47 -23.1203 -134.9692   \n",
       "4          4            Upernavik      GL  7/15/21 21:47  72.7868  -56.1549   \n",
       "..       ...                  ...     ...            ...      ...       ...   \n",
       "560      560              Ternate      ID  7/15/21 21:50   0.8000  127.4000   \n",
       "561      561            Lakefield      US  7/15/21 21:51  43.6775  -95.1717   \n",
       "562      562              Kajaani      FI  7/15/21 21:51  64.2273   27.7285   \n",
       "563      563         San Jeronimo      PE  7/15/21 21:51 -11.9472  -75.2829   \n",
       "564      564            Sembakung      ID  7/15/21 21:48   3.8167  117.2500   \n",
       "\n",
       "     Max Temp  Humidity  Cloudiness  Wind Speed  \n",
       "0       55.17        53           0        7.09  \n",
       "1       65.14        75          97        8.21  \n",
       "2       39.31        93          90        5.75  \n",
       "3       73.31        72          11        8.05  \n",
       "4       42.93        80         100       10.71  \n",
       "..        ...       ...         ...         ...  \n",
       "560     79.50        83          92        3.67  \n",
       "561     80.08        61           1        4.61  \n",
       "562     66.25        94           0        6.91  \n",
       "563     60.31        49          26        7.65  \n",
       "564     76.93        96         100        1.14  \n",
       "\n",
       "[565 rows x 10 columns]"
      ]
     },
     "execution_count": 22,
     "metadata": {},
     "output_type": "execute_result"
    }
   ],
   "source": [
    "city_data_df = pd.read_csv('weather_data/cities.csv')\n",
    "city_data_df"
   ]
  },
  {
   "cell_type": "code",
   "execution_count": 23,
   "id": "24bff07d",
   "metadata": {},
   "outputs": [
    {
     "data": {
      "text/plain": [
       "City_ID         int64\n",
       "City           object\n",
       "Country        object\n",
       "Date           object\n",
       "Lat           float64\n",
       "Lng           float64\n",
       "Max Temp      float64\n",
       "Humidity        int64\n",
       "Cloudiness      int64\n",
       "Wind Speed    float64\n",
       "dtype: object"
      ]
     },
     "execution_count": 23,
     "metadata": {},
     "output_type": "execute_result"
    }
   ],
   "source": [
    "city_data_df.dtypes"
   ]
  },
  {
   "cell_type": "code",
   "execution_count": 24,
   "id": "1dda4179",
   "metadata": {},
   "outputs": [],
   "source": [
    "gmaps.configure(api_key = g_key)"
   ]
  },
  {
   "cell_type": "code",
   "execution_count": 25,
   "id": "78810661",
   "metadata": {},
   "outputs": [
    {
     "data": {
      "application/vnd.jupyter.widget-view+json": {
       "model_id": "c99ea97c469145c6a82748068799ae34",
       "version_major": 2,
       "version_minor": 0
      },
      "text/plain": [
       "Figure(layout=FigureLayout(height='420px'))"
      ]
     },
     "metadata": {},
     "output_type": "display_data"
    }
   ],
   "source": [
    "locations = city_data_df[['Lat', 'Lng']]\n",
    "max_temp = city_data_df['Max Temp']\n",
    "\n",
    "fig = gmaps.figure()\n",
    "\n",
    "heatmap_layer = gmaps.heatmap_layer(locations, weights = max_temp)\n",
    "\n",
    "fig.add_layer(heatmap_layer)\n",
    "\n",
    "fig"
   ]
  },
  {
   "cell_type": "code",
   "execution_count": 26,
   "id": "152a62f3",
   "metadata": {},
   "outputs": [
    {
     "data": {
      "application/vnd.jupyter.widget-view+json": {
       "model_id": "c99ea97c469145c6a82748068799ae34",
       "version_major": 2,
       "version_minor": 0
      },
      "text/plain": [
       "Figure(layout=FigureLayout(height='420px'))"
      ]
     },
     "metadata": {},
     "output_type": "display_data"
    }
   ],
   "source": [
    "max_temp = city_data_df['Max Temp']\n",
    "\n",
    "temps = []\n",
    "\n",
    "for temp in max_temp: \n",
    "    temps.append(max(temp,0))\n",
    "\n",
    "heatmap_layer = gmaps.heatmap_layer(locations, weights = temps)\n",
    "fig.add_layer(heatmap_layer)\n",
    "\n",
    "fig"
   ]
  },
  {
   "cell_type": "code",
   "execution_count": 27,
   "id": "686a62f9",
   "metadata": {},
   "outputs": [
    {
     "data": {
      "application/vnd.jupyter.widget-view+json": {
       "model_id": "c99ea97c469145c6a82748068799ae34",
       "version_major": 2,
       "version_minor": 0
      },
      "text/plain": [
       "Figure(layout=FigureLayout(height='420px'))"
      ]
     },
     "metadata": {},
     "output_type": "display_data"
    }
   ],
   "source": [
    "heatmap_layer = gmaps.heatmap_layer(locations, weights = [max(temp,0) for temp in max_temp])\n",
    "fig"
   ]
  },
  {
   "cell_type": "code",
   "execution_count": 28,
   "id": "cf99b85f",
   "metadata": {},
   "outputs": [
    {
     "data": {
      "application/vnd.jupyter.widget-view+json": {
       "model_id": "e9b50b25307d4af6b56208b1da8172d9",
       "version_major": 2,
       "version_minor": 0
      },
      "text/plain": [
       "Figure(layout=FigureLayout(height='420px'))"
      ]
     },
     "metadata": {},
     "output_type": "display_data"
    }
   ],
   "source": [
    "fig = gmaps.figure(center = (30.0, 31.0), zoom_level = 1.5)\n",
    "\n",
    "heatmap_layer = gmaps.heatmap_layer(locations, weights = [max(temp,0) for temp in max_temp], dissipating = False, max_intensity = 300, point_radius =2)\n",
    "fig.add_layer(heatmap_layer)\n",
    "\n",
    "fig"
   ]
  },
  {
   "cell_type": "code",
   "execution_count": 29,
   "id": "6cfddb1b",
   "metadata": {},
   "outputs": [
    {
     "data": {
      "application/vnd.jupyter.widget-view+json": {
       "model_id": "7c1daecb11254b0cad1967d11814eeb4",
       "version_major": 2,
       "version_minor": 0
      },
      "text/plain": [
       "Figure(layout=FigureLayout(height='420px'))"
      ]
     },
     "metadata": {},
     "output_type": "display_data"
    }
   ],
   "source": [
    "locations = city_data_df[['Lat', 'Lng']]\n",
    "humidity = city_data_df['Humidity']\n",
    "\n",
    "fig = gmaps.figure(center = (30.0, 31.0), zoom_level = 1.5)\n",
    "\n",
    "heatmap_layer = gmaps.heatmap_layer(locations, weights = humidity, dissipating = False, max_intensity = 300, point_radius =2)\n",
    "\n",
    "fig.add_layer(heatmap_layer)\n",
    "\n",
    "fig"
   ]
  },
  {
   "cell_type": "code",
   "execution_count": 30,
   "id": "8dbd878e",
   "metadata": {},
   "outputs": [
    {
     "data": {
      "application/vnd.jupyter.widget-view+json": {
       "model_id": "faacdff300834fa48b4e46fed33df518",
       "version_major": 2,
       "version_minor": 0
      },
      "text/plain": [
       "Figure(layout=FigureLayout(height='420px'))"
      ]
     },
     "metadata": {},
     "output_type": "display_data"
    }
   ],
   "source": [
    "locations = city_data_df[['Lat', 'Lng']]\n",
    "clouds = city_data_df['Cloudiness']\n",
    "\n",
    "fig = gmaps.figure(center = (30.0, 31.0), zoom_level = 1.5)\n",
    "\n",
    "heatmap_layer = gmaps.heatmap_layer(locations, weights = clouds, dissipating = False, max_intensity = 300, point_radius =2)\n",
    "\n",
    "fig.add_layer(heatmap_layer)\n",
    "\n",
    "fig"
   ]
  },
  {
   "cell_type": "code",
   "execution_count": 31,
   "id": "13fe732f",
   "metadata": {},
   "outputs": [
    {
     "data": {
      "application/vnd.jupyter.widget-view+json": {
       "model_id": "78e6464fdea04f408b500da384d86ce4",
       "version_major": 2,
       "version_minor": 0
      },
      "text/plain": [
       "Figure(layout=FigureLayout(height='420px'))"
      ]
     },
     "metadata": {},
     "output_type": "display_data"
    }
   ],
   "source": [
    "locations = city_data_df[['Lat', 'Lng']]\n",
    "wind = city_data_df['Wind Speed']\n",
    "\n",
    "fig = gmaps.figure(center = (30.0, 31.0), zoom_level = 1.5)\n",
    "\n",
    "heatmap_layer = gmaps.heatmap_layer(locations, weights = wind, dissipating = False, max_intensity = 300, point_radius =2)\n",
    "\n",
    "fig.add_layer(heatmap_layer)\n",
    "\n",
    "fig"
   ]
  },
  {
   "cell_type": "code",
   "execution_count": 32,
   "id": "e8cf630f",
   "metadata": {},
   "outputs": [
    {
     "name": "stdout",
     "output_type": "stream",
     "text": [
      "What is the minimum temperature you would like for your trip?75\n",
      "What is the maximum temperature you would like for your trip?90\n"
     ]
    }
   ],
   "source": [
    "min_temp = float(input('What is the minimum temperature you would like for your trip?'))\n",
    "max_temp = float(input('What is the maximum temperature you would like for your trip?'))\n"
   ]
  },
  {
   "cell_type": "code",
   "execution_count": 33,
   "id": "eaf388a0",
   "metadata": {},
   "outputs": [
    {
     "data": {
      "text/html": [
       "<div>\n",
       "<style scoped>\n",
       "    .dataframe tbody tr th:only-of-type {\n",
       "        vertical-align: middle;\n",
       "    }\n",
       "\n",
       "    .dataframe tbody tr th {\n",
       "        vertical-align: top;\n",
       "    }\n",
       "\n",
       "    .dataframe thead th {\n",
       "        text-align: right;\n",
       "    }\n",
       "</style>\n",
       "<table border=\"1\" class=\"dataframe\">\n",
       "  <thead>\n",
       "    <tr style=\"text-align: right;\">\n",
       "      <th></th>\n",
       "      <th>City_ID</th>\n",
       "      <th>City</th>\n",
       "      <th>Country</th>\n",
       "      <th>Date</th>\n",
       "      <th>Lat</th>\n",
       "      <th>Lng</th>\n",
       "      <th>Max Temp</th>\n",
       "      <th>Humidity</th>\n",
       "      <th>Cloudiness</th>\n",
       "      <th>Wind Speed</th>\n",
       "    </tr>\n",
       "  </thead>\n",
       "  <tbody>\n",
       "    <tr>\n",
       "      <th>8</th>\n",
       "      <td>8</td>\n",
       "      <td>Fairfield</td>\n",
       "      <td>US</td>\n",
       "      <td>7/15/21 21:45</td>\n",
       "      <td>41.2668</td>\n",
       "      <td>-73.3162</td>\n",
       "      <td>88.52</td>\n",
       "      <td>70</td>\n",
       "      <td>1</td>\n",
       "      <td>1.01</td>\n",
       "    </tr>\n",
       "    <tr>\n",
       "      <th>13</th>\n",
       "      <td>13</td>\n",
       "      <td>Liberty</td>\n",
       "      <td>US</td>\n",
       "      <td>7/15/21 21:47</td>\n",
       "      <td>31.8335</td>\n",
       "      <td>-81.5004</td>\n",
       "      <td>88.99</td>\n",
       "      <td>45</td>\n",
       "      <td>75</td>\n",
       "      <td>1.99</td>\n",
       "    </tr>\n",
       "    <tr>\n",
       "      <th>19</th>\n",
       "      <td>19</td>\n",
       "      <td>Faanui</td>\n",
       "      <td>PF</td>\n",
       "      <td>7/15/21 21:47</td>\n",
       "      <td>-16.4833</td>\n",
       "      <td>-151.7500</td>\n",
       "      <td>79.32</td>\n",
       "      <td>76</td>\n",
       "      <td>86</td>\n",
       "      <td>18.86</td>\n",
       "    </tr>\n",
       "    <tr>\n",
       "      <th>21</th>\n",
       "      <td>21</td>\n",
       "      <td>Gemlik</td>\n",
       "      <td>TR</td>\n",
       "      <td>7/15/21 21:43</td>\n",
       "      <td>40.4309</td>\n",
       "      <td>29.1597</td>\n",
       "      <td>79.09</td>\n",
       "      <td>70</td>\n",
       "      <td>0</td>\n",
       "      <td>5.75</td>\n",
       "    </tr>\n",
       "    <tr>\n",
       "      <th>31</th>\n",
       "      <td>31</td>\n",
       "      <td>Dzilam Gonzalez</td>\n",
       "      <td>MX</td>\n",
       "      <td>7/15/21 21:47</td>\n",
       "      <td>21.2833</td>\n",
       "      <td>-88.9333</td>\n",
       "      <td>87.22</td>\n",
       "      <td>57</td>\n",
       "      <td>18</td>\n",
       "      <td>11.39</td>\n",
       "    </tr>\n",
       "  </tbody>\n",
       "</table>\n",
       "</div>"
      ],
      "text/plain": [
       "    City_ID             City Country           Date      Lat       Lng  \\\n",
       "8         8        Fairfield      US  7/15/21 21:45  41.2668  -73.3162   \n",
       "13       13          Liberty      US  7/15/21 21:47  31.8335  -81.5004   \n",
       "19       19           Faanui      PF  7/15/21 21:47 -16.4833 -151.7500   \n",
       "21       21           Gemlik      TR  7/15/21 21:43  40.4309   29.1597   \n",
       "31       31  Dzilam Gonzalez      MX  7/15/21 21:47  21.2833  -88.9333   \n",
       "\n",
       "    Max Temp  Humidity  Cloudiness  Wind Speed  \n",
       "8      88.52        70           1        1.01  \n",
       "13     88.99        45          75        1.99  \n",
       "19     79.32        76          86       18.86  \n",
       "21     79.09        70           0        5.75  \n",
       "31     87.22        57          18       11.39  "
      ]
     },
     "execution_count": 33,
     "metadata": {},
     "output_type": "execute_result"
    }
   ],
   "source": [
    "preferred_cities_df = city_data_df.loc[(city_data_df['Max Temp'] <= max_temp) & \\\n",
    "                                       (city_data_df['Max Temp'] >= min_temp)]\n",
    "\n",
    "preferred_cities_df.head()"
   ]
  },
  {
   "cell_type": "code",
   "execution_count": 34,
   "id": "eb72bc50",
   "metadata": {},
   "outputs": [
    {
     "data": {
      "text/plain": [
       "City_ID       210\n",
       "City          210\n",
       "Country       210\n",
       "Date          210\n",
       "Lat           210\n",
       "Lng           210\n",
       "Max Temp      210\n",
       "Humidity      210\n",
       "Cloudiness    210\n",
       "Wind Speed    210\n",
       "dtype: int64"
      ]
     },
     "execution_count": 34,
     "metadata": {},
     "output_type": "execute_result"
    }
   ],
   "source": [
    "preferred_cities_df.count()"
   ]
  },
  {
   "cell_type": "code",
   "execution_count": 35,
   "id": "50d63036",
   "metadata": {},
   "outputs": [
    {
     "data": {
      "text/html": [
       "<div>\n",
       "<style scoped>\n",
       "    .dataframe tbody tr th:only-of-type {\n",
       "        vertical-align: middle;\n",
       "    }\n",
       "\n",
       "    .dataframe tbody tr th {\n",
       "        vertical-align: top;\n",
       "    }\n",
       "\n",
       "    .dataframe thead th {\n",
       "        text-align: right;\n",
       "    }\n",
       "</style>\n",
       "<table border=\"1\" class=\"dataframe\">\n",
       "  <thead>\n",
       "    <tr style=\"text-align: right;\">\n",
       "      <th></th>\n",
       "      <th>City</th>\n",
       "      <th>Country</th>\n",
       "      <th>Max Temp</th>\n",
       "      <th>Lat</th>\n",
       "      <th>Lng</th>\n",
       "      <th>Hotel Name</th>\n",
       "    </tr>\n",
       "  </thead>\n",
       "  <tbody>\n",
       "    <tr>\n",
       "      <th>8</th>\n",
       "      <td>Fairfield</td>\n",
       "      <td>US</td>\n",
       "      <td>88.52</td>\n",
       "      <td>41.2668</td>\n",
       "      <td>-73.3162</td>\n",
       "      <td></td>\n",
       "    </tr>\n",
       "    <tr>\n",
       "      <th>13</th>\n",
       "      <td>Liberty</td>\n",
       "      <td>US</td>\n",
       "      <td>88.99</td>\n",
       "      <td>31.8335</td>\n",
       "      <td>-81.5004</td>\n",
       "      <td></td>\n",
       "    </tr>\n",
       "    <tr>\n",
       "      <th>19</th>\n",
       "      <td>Faanui</td>\n",
       "      <td>PF</td>\n",
       "      <td>79.32</td>\n",
       "      <td>-16.4833</td>\n",
       "      <td>-151.7500</td>\n",
       "      <td></td>\n",
       "    </tr>\n",
       "    <tr>\n",
       "      <th>21</th>\n",
       "      <td>Gemlik</td>\n",
       "      <td>TR</td>\n",
       "      <td>79.09</td>\n",
       "      <td>40.4309</td>\n",
       "      <td>29.1597</td>\n",
       "      <td></td>\n",
       "    </tr>\n",
       "    <tr>\n",
       "      <th>31</th>\n",
       "      <td>Dzilam Gonzalez</td>\n",
       "      <td>MX</td>\n",
       "      <td>87.22</td>\n",
       "      <td>21.2833</td>\n",
       "      <td>-88.9333</td>\n",
       "      <td></td>\n",
       "    </tr>\n",
       "    <tr>\n",
       "      <th>...</th>\n",
       "      <td>...</td>\n",
       "      <td>...</td>\n",
       "      <td>...</td>\n",
       "      <td>...</td>\n",
       "      <td>...</td>\n",
       "      <td>...</td>\n",
       "    </tr>\n",
       "    <tr>\n",
       "      <th>557</th>\n",
       "      <td>Jibuti</td>\n",
       "      <td>DJ</td>\n",
       "      <td>89.02</td>\n",
       "      <td>11.5000</td>\n",
       "      <td>42.5000</td>\n",
       "      <td></td>\n",
       "    </tr>\n",
       "    <tr>\n",
       "      <th>559</th>\n",
       "      <td>Ingham</td>\n",
       "      <td>US</td>\n",
       "      <td>79.95</td>\n",
       "      <td>42.6000</td>\n",
       "      <td>-84.3833</td>\n",
       "      <td></td>\n",
       "    </tr>\n",
       "    <tr>\n",
       "      <th>560</th>\n",
       "      <td>Ternate</td>\n",
       "      <td>ID</td>\n",
       "      <td>79.50</td>\n",
       "      <td>0.8000</td>\n",
       "      <td>127.4000</td>\n",
       "      <td></td>\n",
       "    </tr>\n",
       "    <tr>\n",
       "      <th>561</th>\n",
       "      <td>Lakefield</td>\n",
       "      <td>US</td>\n",
       "      <td>80.08</td>\n",
       "      <td>43.6775</td>\n",
       "      <td>-95.1717</td>\n",
       "      <td></td>\n",
       "    </tr>\n",
       "    <tr>\n",
       "      <th>564</th>\n",
       "      <td>Sembakung</td>\n",
       "      <td>ID</td>\n",
       "      <td>76.93</td>\n",
       "      <td>3.8167</td>\n",
       "      <td>117.2500</td>\n",
       "      <td></td>\n",
       "    </tr>\n",
       "  </tbody>\n",
       "</table>\n",
       "<p>210 rows × 6 columns</p>\n",
       "</div>"
      ],
      "text/plain": [
       "                City Country  Max Temp      Lat       Lng Hotel Name\n",
       "8          Fairfield      US     88.52  41.2668  -73.3162           \n",
       "13           Liberty      US     88.99  31.8335  -81.5004           \n",
       "19            Faanui      PF     79.32 -16.4833 -151.7500           \n",
       "21            Gemlik      TR     79.09  40.4309   29.1597           \n",
       "31   Dzilam Gonzalez      MX     87.22  21.2833  -88.9333           \n",
       "..               ...     ...       ...      ...       ...        ...\n",
       "557           Jibuti      DJ     89.02  11.5000   42.5000           \n",
       "559           Ingham      US     79.95  42.6000  -84.3833           \n",
       "560          Ternate      ID     79.50   0.8000  127.4000           \n",
       "561        Lakefield      US     80.08  43.6775  -95.1717           \n",
       "564        Sembakung      ID     76.93   3.8167  117.2500           \n",
       "\n",
       "[210 rows x 6 columns]"
      ]
     },
     "execution_count": 35,
     "metadata": {},
     "output_type": "execute_result"
    }
   ],
   "source": [
    "hotel_df = preferred_cities_df[['City', 'Country', 'Max Temp', 'Lat', 'Lng']].copy()\n",
    "hotel_df['Hotel Name'] = ' '\n",
    "hotel_df"
   ]
  },
  {
   "cell_type": "code",
   "execution_count": 36,
   "id": "43040078",
   "metadata": {},
   "outputs": [],
   "source": [
    "params = {\n",
    "    \"radius\": 5000,\n",
    "    \"type\": \"lodging\",\n",
    "    \"key\": g_key\n",
    "}\n",
    " \n",
    "\n"
   ]
  },
  {
   "cell_type": "code",
   "execution_count": 37,
   "id": "265a7692",
   "metadata": {},
   "outputs": [
    {
     "name": "stdout",
     "output_type": "stream",
     "text": [
      "Hotel not found... skipping\n",
      "Hotel not found... skipping\n",
      "Hotel not found... skipping\n",
      "Hotel not found... skipping\n",
      "Hotel not found... skipping\n",
      "Hotel not found... skipping\n",
      "Hotel not found... skipping\n",
      "Hotel not found... skipping\n",
      "Hotel not found... skipping\n",
      "Hotel not found... skipping\n",
      "Hotel not found... skipping\n",
      "Hotel not found... skipping\n",
      "Hotel not found... skipping\n",
      "Hotel not found... skipping\n"
     ]
    }
   ],
   "source": [
    "for index, row in hotel_df.iterrows(): \n",
    "    \n",
    "    lat = row['Lat']\n",
    "    lng = row['Lng']\n",
    "\n",
    "    params[\"location\"] = f\"{lat},{lng}\"\n",
    "\n",
    "    base_url = \"https://maps.googleapis.com/maps/api/place/nearbysearch/json\"\n",
    "    \n",
    "    \n",
    "    hotels = requests.get(base_url, params = params).json()\n",
    "    try:\n",
    "        hotel_df.loc[index, 'Hotel Name'] = hotels['results'][0]['name']\n",
    "    except (IndexError): \n",
    "        print('Hotel not found... skipping')"
   ]
  },
  {
   "cell_type": "code",
   "execution_count": 38,
   "id": "bae05763",
   "metadata": {},
   "outputs": [
    {
     "data": {
      "text/html": [
       "<div>\n",
       "<style scoped>\n",
       "    .dataframe tbody tr th:only-of-type {\n",
       "        vertical-align: middle;\n",
       "    }\n",
       "\n",
       "    .dataframe tbody tr th {\n",
       "        vertical-align: top;\n",
       "    }\n",
       "\n",
       "    .dataframe thead th {\n",
       "        text-align: right;\n",
       "    }\n",
       "</style>\n",
       "<table border=\"1\" class=\"dataframe\">\n",
       "  <thead>\n",
       "    <tr style=\"text-align: right;\">\n",
       "      <th></th>\n",
       "      <th>City</th>\n",
       "      <th>Country</th>\n",
       "      <th>Max Temp</th>\n",
       "      <th>Lat</th>\n",
       "      <th>Lng</th>\n",
       "      <th>Hotel Name</th>\n",
       "    </tr>\n",
       "  </thead>\n",
       "  <tbody>\n",
       "    <tr>\n",
       "      <th>8</th>\n",
       "      <td>Fairfield</td>\n",
       "      <td>US</td>\n",
       "      <td>88.52</td>\n",
       "      <td>41.2668</td>\n",
       "      <td>-73.3162</td>\n",
       "      <td></td>\n",
       "    </tr>\n",
       "    <tr>\n",
       "      <th>13</th>\n",
       "      <td>Liberty</td>\n",
       "      <td>US</td>\n",
       "      <td>88.99</td>\n",
       "      <td>31.8335</td>\n",
       "      <td>-81.5004</td>\n",
       "      <td>Sasser Trailer Park</td>\n",
       "    </tr>\n",
       "    <tr>\n",
       "      <th>19</th>\n",
       "      <td>Faanui</td>\n",
       "      <td>PF</td>\n",
       "      <td>79.32</td>\n",
       "      <td>-16.4833</td>\n",
       "      <td>-151.7500</td>\n",
       "      <td>Bora-Bora Pearl Beach Resort &amp; Spa</td>\n",
       "    </tr>\n",
       "    <tr>\n",
       "      <th>21</th>\n",
       "      <td>Gemlik</td>\n",
       "      <td>TR</td>\n",
       "      <td>79.09</td>\n",
       "      <td>40.4309</td>\n",
       "      <td>29.1597</td>\n",
       "      <td>Gemlik Pak Hotel</td>\n",
       "    </tr>\n",
       "    <tr>\n",
       "      <th>31</th>\n",
       "      <td>Dzilam Gonzalez</td>\n",
       "      <td>MX</td>\n",
       "      <td>87.22</td>\n",
       "      <td>21.2833</td>\n",
       "      <td>-88.9333</td>\n",
       "      <td>posadas</td>\n",
       "    </tr>\n",
       "  </tbody>\n",
       "</table>\n",
       "</div>"
      ],
      "text/plain": [
       "               City Country  Max Temp      Lat       Lng  \\\n",
       "8         Fairfield      US     88.52  41.2668  -73.3162   \n",
       "13          Liberty      US     88.99  31.8335  -81.5004   \n",
       "19           Faanui      PF     79.32 -16.4833 -151.7500   \n",
       "21           Gemlik      TR     79.09  40.4309   29.1597   \n",
       "31  Dzilam Gonzalez      MX     87.22  21.2833  -88.9333   \n",
       "\n",
       "                            Hotel Name  \n",
       "8                                       \n",
       "13                 Sasser Trailer Park  \n",
       "19  Bora-Bora Pearl Beach Resort & Spa  \n",
       "21                    Gemlik Pak Hotel  \n",
       "31                             posadas  "
      ]
     },
     "execution_count": 38,
     "metadata": {},
     "output_type": "execute_result"
    }
   ],
   "source": [
    "hotel_df.head()"
   ]
  },
  {
   "cell_type": "code",
   "execution_count": 42,
   "id": "f4e8c114",
   "metadata": {},
   "outputs": [
    {
     "data": {
      "application/vnd.jupyter.widget-view+json": {
       "model_id": "84ce707cea7742188d15d583f6263ec1",
       "version_major": 2,
       "version_minor": 0
      },
      "text/plain": [
       "Figure(layout=FigureLayout(height='420px'))"
      ]
     },
     "metadata": {},
     "output_type": "display_data"
    }
   ],
   "source": [
    "\n",
    "locations = hotel_df[['Lat', 'Lng']]\n",
    "max_temp = hotel_df['Max Temp']\n",
    "\n",
    "fig = gmaps.figure(center = (30.0, 31.0), zoom_level = 1.5)\n",
    "\n",
    "heatmap_layer = gmaps.heatmap_layer(locations, weights = max_temp, dissipating = False, max_intensity = 300, point_radius =2)\n",
    "marker_layer = gmaps.marker_layer(locations)\n",
    "\n",
    "fig.add_layer(heatmap_layer)\n",
    "fig.add_layer(marker_layer)\n",
    "\n",
    "fig\n"
   ]
  },
  {
   "cell_type": "code",
   "execution_count": 44,
   "id": "540dc11b",
   "metadata": {},
   "outputs": [],
   "source": [
    "info_box_template = \"\"\"\"\n",
    "<dl> \n",
    "<dt>Hotel Name</dt><dd>{Hotel Name}</dd>\n",
    "<dt>City</dt><dd>{City}</dd>\n",
    "<dt>Country</dt><dd>{Country}</dd>\n",
    "<dt> Max Temp</dt><dd>{Max Temp} °F</dd>\n",
    "</dl>\n",
    "\"\"\"\n",
    "hotel_info = [info_box_template.format(**row) for index, row in hotel_df.iterrows()]"
   ]
  },
  {
   "cell_type": "code",
   "execution_count": 45,
   "id": "7e73229d",
   "metadata": {},
   "outputs": [
    {
     "data": {
      "application/vnd.jupyter.widget-view+json": {
       "model_id": "d7f00eff32714a088a2843684af606c7",
       "version_major": 2,
       "version_minor": 0
      },
      "text/plain": [
       "Figure(layout=FigureLayout(height='420px'))"
      ]
     },
     "metadata": {},
     "output_type": "display_data"
    }
   ],
   "source": [
    "\n",
    "locations = hotel_df[['Lat', 'Lng']]\n",
    "max_temp = hotel_df['Max Temp']\n",
    "\n",
    "fig = gmaps.figure(center = (30.0, 31.0), zoom_level = 1.5)\n",
    "\n",
    "heatmap_layer = gmaps.heatmap_layer(locations, weights = max_temp, dissipating = False, max_intensity = 300, point_radius =2)\n",
    "marker_layer = gmaps.marker_layer(locations, info_box_content = hotel_info)\n",
    "\n",
    "fig.add_layer(heatmap_layer)\n",
    "fig.add_layer(marker_layer)\n",
    "\n",
    "fig"
   ]
  },
  {
   "cell_type": "code",
   "execution_count": null,
   "id": "e11b24d7",
   "metadata": {},
   "outputs": [],
   "source": []
  }
 ],
 "metadata": {
  "kernelspec": {
   "display_name": "PythonData",
   "language": "python",
   "name": "pythondata"
  },
  "language_info": {
   "codemirror_mode": {
    "name": "ipython",
    "version": 3
   },
   "file_extension": ".py",
   "mimetype": "text/x-python",
   "name": "python",
   "nbconvert_exporter": "python",
   "pygments_lexer": "ipython3",
   "version": "3.7.10"
  }
 },
 "nbformat": 4,
 "nbformat_minor": 5
}
