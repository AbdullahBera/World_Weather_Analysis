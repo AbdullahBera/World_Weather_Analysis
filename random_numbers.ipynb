{
 "cells": [
  {
   "cell_type": "code",
   "execution_count": 1,
   "id": "e5f2f649",
   "metadata": {},
   "outputs": [],
   "source": [
    "import random "
   ]
  },
  {
   "cell_type": "code",
   "execution_count": 2,
   "id": "9795fbc3",
   "metadata": {},
   "outputs": [
    {
     "data": {
      "text/plain": [
       "78"
      ]
     },
     "execution_count": 2,
     "metadata": {},
     "output_type": "execute_result"
    }
   ],
   "source": [
    "random.randint(-90,90)"
   ]
  },
  {
   "cell_type": "code",
   "execution_count": 4,
   "id": "3067d3ec",
   "metadata": {},
   "outputs": [
    {
     "data": {
      "text/plain": [
       "32.7387446807338"
      ]
     },
     "execution_count": 4,
     "metadata": {},
     "output_type": "execute_result"
    }
   ],
   "source": [
    "random.uniform(-90,90)"
   ]
  },
  {
   "cell_type": "code",
   "execution_count": 7,
   "id": "6763ff05",
   "metadata": {},
   "outputs": [
    {
     "data": {
      "text/plain": [
       "-47.31964465639826"
      ]
     },
     "execution_count": 7,
     "metadata": {},
     "output_type": "execute_result"
    }
   ],
   "source": [
    "random_number = random.randint(-90,89) + random.random()\n",
    "random_number"
   ]
  },
  {
   "cell_type": "code",
   "execution_count": 12,
   "id": "316e21a6",
   "metadata": {},
   "outputs": [
    {
     "data": {
      "text/plain": [
       "[-59.517581421636244,\n",
       " 17.128896636635492,\n",
       " -22.127436526761517,\n",
       " 66.45348749631975,\n",
       " 29.664649811422514,\n",
       " 4.738497983859254,\n",
       " -7.803928696535807,\n",
       " -83.69855734479339,\n",
       " -58.87654729549758,\n",
       " -51.13726810837276]"
      ]
     },
     "execution_count": 12,
     "metadata": {},
     "output_type": "execute_result"
    }
   ],
   "source": [
    "x = 1 \n",
    "latitudes = []\n",
    "while x < 11:\n",
    "    random_lat = random.randint(-90,89) + random.random()\n",
    "    latitudes.append(random_lat)\n",
    "    x += 1\n",
    "latitudes"
   ]
  },
  {
   "cell_type": "code",
   "execution_count": 15,
   "id": "6f6a6659",
   "metadata": {},
   "outputs": [
    {
     "data": {
      "text/plain": [
       "72"
      ]
     },
     "execution_count": 15,
     "metadata": {},
     "output_type": "execute_result"
    }
   ],
   "source": [
    "random.randrange(-90,90,3)"
   ]
  },
  {
   "cell_type": "code",
   "execution_count": 16,
   "id": "14bc1bb3",
   "metadata": {},
   "outputs": [
    {
     "data": {
      "text/plain": [
       "[9.299761255035058,\n",
       " 18.279857848734974,\n",
       " -55.46429617204166,\n",
       " 41.399476972771076,\n",
       " 10.89498706869794,\n",
       " -34.539539508783704,\n",
       " 65.62723161483697,\n",
       " 71.67124700278669,\n",
       " 33.327119876352555,\n",
       " -51.13715254124336]"
      ]
     },
     "execution_count": 16,
     "metadata": {},
     "output_type": "execute_result"
    }
   ],
   "source": [
    "x = 1 \n",
    "longitudes = []\n",
    "while x < 11: \n",
    "    random_long = random.randrange(-90,89,1) + random.random()\n",
    "    longitudes.append(random_long)\n",
    "    x += 1 \n",
    "longitudes"
   ]
  },
  {
   "cell_type": "code",
   "execution_count": 17,
   "id": "7d27955b",
   "metadata": {},
   "outputs": [
    {
     "data": {
      "text/plain": [
       "7.49383555767082"
      ]
     },
     "execution_count": 17,
     "metadata": {},
     "output_type": "execute_result"
    }
   ],
   "source": [
    "random.uniform(-90,90)"
   ]
  },
  {
   "cell_type": "code",
   "execution_count": 18,
   "id": "0f859ef5",
   "metadata": {},
   "outputs": [],
   "source": [
    "import numpy as np "
   ]
  },
  {
   "cell_type": "code",
   "execution_count": 20,
   "id": "8ff6eec7",
   "metadata": {},
   "outputs": [
    {
     "data": {
      "text/plain": [
       "50.65238056689694"
      ]
     },
     "execution_count": 20,
     "metadata": {},
     "output_type": "execute_result"
    }
   ],
   "source": [
    "np.random.uniform(-90,90)"
   ]
  },
  {
   "cell_type": "code",
   "execution_count": 21,
   "id": "066f7822",
   "metadata": {},
   "outputs": [
    {
     "data": {
      "text/plain": [
       "array([-56.60294696, -29.98837908, -83.0399089 , -26.26892327,\n",
       "       -70.18899385, -16.52062896, -16.75102229, -70.25886245,\n",
       "       -45.82754823,  47.67257441,  17.73294135,  26.0586953 ,\n",
       "        26.12838215, -58.93946396, -43.22574067,  13.30013167,\n",
       "       -83.48350049,  44.30794984, -73.53933729,  65.51296907,\n",
       "       -38.82090936, -18.12708506,  55.96202679, -55.99563757,\n",
       "       -57.073355  ,   4.88485489,  18.93107848, -44.11015731,\n",
       "        15.11878577, -39.71430336, -40.64397337,  85.52252388,\n",
       "        56.96484888,  -5.00324854, -41.80012911,   0.35974105,\n",
       "       -81.08784592,  23.74754555,  32.46865052,  -5.1735073 ,\n",
       "        25.56587686,  62.57135919, -81.35344647,  19.07876049,\n",
       "       -73.72298111,  38.48621264,  26.72750121, -40.23403918,\n",
       "        12.90981043,  33.75819509])"
      ]
     },
     "execution_count": 21,
     "metadata": {},
     "output_type": "execute_result"
    }
   ],
   "source": [
    "np.random.uniform(-90,90, size=50)"
   ]
  },
  {
   "cell_type": "code",
   "execution_count": 29,
   "id": "22d24f15",
   "metadata": {},
   "outputs": [],
   "source": [
    "import timeit "
   ]
  },
  {
   "cell_type": "code",
   "execution_count": 30,
   "id": "e3e77e1d",
   "metadata": {},
   "outputs": [
    {
     "name": "stdout",
     "output_type": "stream",
     "text": [
      "12.9 µs ± 215 ns per loop (mean ± std. dev. of 7 runs, 100000 loops each)\n"
     ]
    }
   ],
   "source": [
    "%timeit np.random.uniform(-90, 90, size = 1500)"
   ]
  },
  {
   "cell_type": "code",
   "execution_count": 36,
   "id": "a8a7883e",
   "metadata": {},
   "outputs": [
    {
     "name": "stdout",
     "output_type": "stream",
     "text": [
      "1.47 ms ± 9.09 µs per loop (mean ± std. dev. of 7 runs, 1000 loops each)\n"
     ]
    }
   ],
   "source": [
    "def latitudes(size):\n",
    "    latitudes = []\n",
    "    x = 0\n",
    "    while x < (size): \n",
    "        random_lat = random.randint(-90,89) + random.random()\n",
    "        latitudes.append(random_lat)\n",
    "        x += 1 \n",
    "    return latitudes\n",
    "%timeit latitudes(1500)\n"
   ]
  },
  {
   "cell_type": "code",
   "execution_count": null,
   "id": "292cf9c0",
   "metadata": {},
   "outputs": [],
   "source": []
  }
 ],
 "metadata": {
  "kernelspec": {
   "display_name": "PythonData",
   "language": "python",
   "name": "pythondata"
  },
  "language_info": {
   "codemirror_mode": {
    "name": "ipython",
    "version": 3
   },
   "file_extension": ".py",
   "mimetype": "text/x-python",
   "name": "python",
   "nbconvert_exporter": "python",
   "pygments_lexer": "ipython3",
   "version": "3.7.10"
  }
 },
 "nbformat": 4,
 "nbformat_minor": 5
}
